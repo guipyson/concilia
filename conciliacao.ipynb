{
 "cells": [
  {
   "cell_type": "code",
   "execution_count": 68,
   "metadata": {},
   "outputs": [],
   "source": [
    "import pandas as pd\n",
    "#xlsm = 'razao.xlsm'\n",
    "razao = pd.read_excel(xlsm, sheet_name=0)\n",
    "posicao = pd.read_excel(xlsm, sheet_name=1)\n",
    "pdd = pd.read_excel(xlsm, sheet_name=2)"
   ]
  },
  {
   "cell_type": "code",
   "execution_count": 69,
   "metadata": {},
   "outputs": [],
   "source": [
    "razao_dict = dict(zip(razao[\"Código Empresa\"], razao[\"Descrição Empresa\"]))\n",
    "posicao_dict = dict(zip(posicao[\"Empresa\"], posicao[\"Nome Completo\"]))\n",
    "pdd_dict = dict(zip(pdd[\"Empresa\"], pdd[\"Nome Completo\"]))"
   ]
  },
  {
   "cell_type": "code",
   "execution_count": 70,
   "metadata": {},
   "outputs": [],
   "source": [
    "codigo_empresa = {}\n",
    "for d in [razao_dict, posicao_dict, pdd_dict]:\n",
    "    for key, value in d.items():\n",
    "        if key not in codigo_empresa:\n",
    "            codigo_empresa[key] = value"
   ]
  },
  {
   "cell_type": "code",
   "execution_count": 71,
   "metadata": {},
   "outputs": [],
   "source": [
    "dc = razao.groupby('Código Empresa')[['Débito', 'Crédito']].sum().reset_index()"
   ]
  },
  {
   "cell_type": "code",
   "execution_count": 72,
   "metadata": {},
   "outputs": [],
   "source": [
    "posicao_grouped = posicao.groupby('Empresa')['Saldo'].sum().reset_index()\n"
   ]
  },
  {
   "cell_type": "code",
   "execution_count": 73,
   "metadata": {},
   "outputs": [],
   "source": [
    "merged_df = pd.merge(posicao_grouped, dc, left_on='Empresa', right_on='Código Empresa', how='outer')\n"
   ]
  },
  {
   "cell_type": "code",
   "execution_count": 74,
   "metadata": {},
   "outputs": [],
   "source": [
    "merged_df.loc[merged_df['Empresa'].isna(), 'Empresa'] = merged_df['Código Empresa']"
   ]
  },
  {
   "cell_type": "code",
   "execution_count": 75,
   "metadata": {},
   "outputs": [],
   "source": [
    "pdd_grouped = pdd.groupby('Empresa')['Saldo'].sum().reset_index()"
   ]
  },
  {
   "cell_type": "code",
   "execution_count": 76,
   "metadata": {},
   "outputs": [],
   "source": [
    "pdd_grouped.rename(columns={'Empresa': 'Código', 'Saldo': 'PDD'}, inplace=True)"
   ]
  },
  {
   "cell_type": "code",
   "execution_count": 80,
   "metadata": {},
   "outputs": [
    {
     "data": {
      "text/html": [
       "<div>\n",
       "<style scoped>\n",
       "    .dataframe tbody tr th:only-of-type {\n",
       "        vertical-align: middle;\n",
       "    }\n",
       "\n",
       "    .dataframe tbody tr th {\n",
       "        vertical-align: top;\n",
       "    }\n",
       "\n",
       "    .dataframe thead th {\n",
       "        text-align: right;\n",
       "    }\n",
       "</style>\n",
       "<table border=\"1\" class=\"dataframe\">\n",
       "  <thead>\n",
       "    <tr style=\"text-align: right;\">\n",
       "      <th></th>\n",
       "      <th>Código</th>\n",
       "      <th>PDD</th>\n",
       "    </tr>\n",
       "  </thead>\n",
       "  <tbody>\n",
       "    <tr>\n",
       "      <th>0</th>\n",
       "      <td>56390.0</td>\n",
       "      <td>16215.93</td>\n",
       "    </tr>\n",
       "    <tr>\n",
       "      <th>1</th>\n",
       "      <td>57123.0</td>\n",
       "      <td>18207.18</td>\n",
       "    </tr>\n",
       "  </tbody>\n",
       "</table>\n",
       "</div>"
      ],
      "text/plain": [
       "    Código       PDD\n",
       "0  56390.0  16215.93\n",
       "1  57123.0  18207.18"
      ]
     },
     "execution_count": 80,
     "metadata": {},
     "output_type": "execute_result"
    }
   ],
   "source": [
    "pdd_grouped"
   ]
  },
  {
   "cell_type": "code",
   "execution_count": 77,
   "metadata": {},
   "outputs": [],
   "source": [
    "merged_pdd = pd.merge(merged_df, pdd_grouped, left_on='Empresa', right_on='Código', how='outer')\n"
   ]
  },
  {
   "cell_type": "code",
   "execution_count": 78,
   "metadata": {},
   "outputs": [],
   "source": [
    "merged_pdd.loc[merged_df['Empresa'].isna(), 'Empresa'] = merged_pdd['Código']"
   ]
  },
  {
   "cell_type": "code",
   "execution_count": 79,
   "metadata": {},
   "outputs": [],
   "source": [
    "merged_pdd.drop(columns=['Código Empresa', 'Código'], inplace=True)\n"
   ]
  },
  {
   "cell_type": "code",
   "execution_count": 80,
   "metadata": {},
   "outputs": [],
   "source": [
    "merged_pdd[['Saldo', 'Débito', 'Crédito', 'PDD']] = merged_pdd[['Saldo', 'Débito', 'Crédito', 'PDD']].fillna(0.0)\n"
   ]
  },
  {
   "cell_type": "code",
   "execution_count": 81,
   "metadata": {},
   "outputs": [],
   "source": [
    "merged_pdd['Diferença'] = merged_pdd['Saldo'] - (merged_pdd['Débito'] - merged_pdd['Crédito'] - merged_pdd['PDD'])\n"
   ]
  },
  {
   "cell_type": "code",
   "execution_count": 82,
   "metadata": {},
   "outputs": [],
   "source": [
    "columns_to_round = ['Saldo', 'Débito', 'Crédito', 'PDD', 'Diferença']\n",
    "merged_pdd[columns_to_round] = merged_pdd[columns_to_round].round(2)"
   ]
  },
  {
   "cell_type": "code",
   "execution_count": 83,
   "metadata": {},
   "outputs": [],
   "source": [
    "def check_sum_difference_between_dfs(df1, col1, df2, col2):\n",
    "    sum_col1 = df1[col1].sum()\n",
    "    sum_col2 = df2[col2].sum()\n",
    "    difference = abs(sum_col1 - sum_col2)\n",
    "    return difference < 1, difference\n"
   ]
  },
  {
   "cell_type": "code",
   "execution_count": 84,
   "metadata": {},
   "outputs": [
    {
     "name": "stdout",
     "output_type": "stream",
     "text": [
      "Data written to merged_pdd.xlsx\n"
     ]
    }
   ],
   "source": [
    "comparisons = [\n",
    "    ('Débito', 'Débito', razao),\n",
    "    ('Crédito', 'Crédito', razao),\n",
    "    ('Saldo', 'Saldo', posicao),\n",
    "    ('PDD', 'Saldo', pdd)\n",
    "]\n",
    "\n",
    "all_match = True\n",
    "for col1, col2, df2 in comparisons:\n",
    "    is_match, diff = check_sum_difference_between_dfs(merged_pdd, col1, df2, col2)\n",
    "    if not is_match:\n",
    "        all_match = False\n",
    "        break\n",
    "\n",
    "if all_match:\n",
    "    # Write merged_pdd to an Excel file\n",
    "    merged_pdd.to_excel('merged_pdd.xlsx', index=False)\n",
    "    print(\"Data written to merged_pdd.xlsx\")\n",
    "else:\n",
    "    raise ValueError(\"Not matching\")"
   ]
  },
  {
   "cell_type": "code",
   "execution_count": 60,
   "metadata": {},
   "outputs": [],
   "source": [
    "merged_pdd[\"Nome Cliente\"] = merged_pdd[\"Empresa\"].map(codigo_empresa)\n"
   ]
  },
  {
   "cell_type": "code",
   "execution_count": 62,
   "metadata": {},
   "outputs": [],
   "source": [
    "merged_pdd = merged_pdd[[\"Empresa\", \"Nome Cliente\", \"Saldo\", \"Débito\", \"Crédito\", \"PDD\", \"Diferença\"]]\n"
   ]
  },
  {
   "cell_type": "code",
   "execution_count": 66,
   "metadata": {},
   "outputs": [],
   "source": [
    "def round_small_values(value):\n",
    "    return 0.0 if value < 0.01 else value\n",
    "\n",
    "merged_pdd[\"Diferença\"] = merged_pdd[\"Diferença\"].apply(round_small_values)\n"
   ]
  },
  {
   "cell_type": "code",
   "execution_count": 67,
   "metadata": {},
   "outputs": [
    {
     "data": {
      "text/html": [
       "<div>\n",
       "<style scoped>\n",
       "    .dataframe tbody tr th:only-of-type {\n",
       "        vertical-align: middle;\n",
       "    }\n",
       "\n",
       "    .dataframe tbody tr th {\n",
       "        vertical-align: top;\n",
       "    }\n",
       "\n",
       "    .dataframe thead th {\n",
       "        text-align: right;\n",
       "    }\n",
       "</style>\n",
       "<table border=\"1\" class=\"dataframe\">\n",
       "  <thead>\n",
       "    <tr style=\"text-align: right;\">\n",
       "      <th></th>\n",
       "      <th>Empresa</th>\n",
       "      <th>Nome Cliente</th>\n",
       "      <th>Saldo</th>\n",
       "      <th>Débito</th>\n",
       "      <th>Crédito</th>\n",
       "      <th>PDD</th>\n",
       "      <th>Diferença</th>\n",
       "    </tr>\n",
       "  </thead>\n",
       "  <tbody>\n",
       "    <tr>\n",
       "      <th>0</th>\n",
       "      <td>28.0</td>\n",
       "      <td>A FONSECA E CIA LTDA</td>\n",
       "      <td>10201.08</td>\n",
       "      <td>133304.86</td>\n",
       "      <td>123103.78</td>\n",
       "      <td>0.0</td>\n",
       "      <td>0.0</td>\n",
       "    </tr>\n",
       "    <tr>\n",
       "      <th>1</th>\n",
       "      <td>92.0</td>\n",
       "      <td>ANTONIO LOBASCZ E CIA LTDA</td>\n",
       "      <td>0.00</td>\n",
       "      <td>184678.36</td>\n",
       "      <td>184678.36</td>\n",
       "      <td>0.0</td>\n",
       "      <td>0.0</td>\n",
       "    </tr>\n",
       "    <tr>\n",
       "      <th>2</th>\n",
       "      <td>112.0</td>\n",
       "      <td>BRASIL ESCOLAR LTDA</td>\n",
       "      <td>16840.09</td>\n",
       "      <td>112126.80</td>\n",
       "      <td>95286.71</td>\n",
       "      <td>0.0</td>\n",
       "      <td>0.0</td>\n",
       "    </tr>\n",
       "    <tr>\n",
       "      <th>3</th>\n",
       "      <td>152.0</td>\n",
       "      <td>J D CAMARGO E CIA LTDA</td>\n",
       "      <td>0.00</td>\n",
       "      <td>4865.04</td>\n",
       "      <td>4865.04</td>\n",
       "      <td>0.0</td>\n",
       "      <td>0.0</td>\n",
       "    </tr>\n",
       "    <tr>\n",
       "      <th>4</th>\n",
       "      <td>154.0</td>\n",
       "      <td>ARNALDO COMERCIO E REPRESENTAC</td>\n",
       "      <td>0.00</td>\n",
       "      <td>9048.34</td>\n",
       "      <td>9048.34</td>\n",
       "      <td>0.0</td>\n",
       "      <td>0.0</td>\n",
       "    </tr>\n",
       "    <tr>\n",
       "      <th>...</th>\n",
       "      <td>...</td>\n",
       "      <td>...</td>\n",
       "      <td>...</td>\n",
       "      <td>...</td>\n",
       "      <td>...</td>\n",
       "      <td>...</td>\n",
       "      <td>...</td>\n",
       "    </tr>\n",
       "    <tr>\n",
       "      <th>8085</th>\n",
       "      <td>800186.0</td>\n",
       "      <td>TW TRANSPORTES E LOGISTICA LTDA</td>\n",
       "      <td>0.00</td>\n",
       "      <td>944.30</td>\n",
       "      <td>944.30</td>\n",
       "      <td>0.0</td>\n",
       "      <td>0.0</td>\n",
       "    </tr>\n",
       "    <tr>\n",
       "      <th>8086</th>\n",
       "      <td>802494.0</td>\n",
       "      <td>RODOVIARIO BEDIN LTDA</td>\n",
       "      <td>0.00</td>\n",
       "      <td>14059.50</td>\n",
       "      <td>14059.50</td>\n",
       "      <td>0.0</td>\n",
       "      <td>0.0</td>\n",
       "    </tr>\n",
       "    <tr>\n",
       "      <th>8087</th>\n",
       "      <td>803776.0</td>\n",
       "      <td>RTC LOGISTICA E TRANSPORTES LTDA</td>\n",
       "      <td>2653.81</td>\n",
       "      <td>2653.81</td>\n",
       "      <td>0.00</td>\n",
       "      <td>0.0</td>\n",
       "      <td>0.0</td>\n",
       "    </tr>\n",
       "    <tr>\n",
       "      <th>8088</th>\n",
       "      <td>804115.0</td>\n",
       "      <td>TRANSPORTES JESUS LTDA</td>\n",
       "      <td>484.44</td>\n",
       "      <td>2024.94</td>\n",
       "      <td>1540.50</td>\n",
       "      <td>0.0</td>\n",
       "      <td>0.0</td>\n",
       "    </tr>\n",
       "    <tr>\n",
       "      <th>8089</th>\n",
       "      <td>804171.0</td>\n",
       "      <td>MENGUE EXPRESS EIRELE ME</td>\n",
       "      <td>0.00</td>\n",
       "      <td>182.56</td>\n",
       "      <td>182.56</td>\n",
       "      <td>0.0</td>\n",
       "      <td>0.0</td>\n",
       "    </tr>\n",
       "  </tbody>\n",
       "</table>\n",
       "<p>8090 rows × 7 columns</p>\n",
       "</div>"
      ],
      "text/plain": [
       "       Empresa                      Nome Cliente     Saldo     Débito  \\\n",
       "0         28.0              A FONSECA E CIA LTDA  10201.08  133304.86   \n",
       "1         92.0        ANTONIO LOBASCZ E CIA LTDA      0.00  184678.36   \n",
       "2        112.0               BRASIL ESCOLAR LTDA  16840.09  112126.80   \n",
       "3        152.0            J D CAMARGO E CIA LTDA      0.00    4865.04   \n",
       "4        154.0    ARNALDO COMERCIO E REPRESENTAC      0.00    9048.34   \n",
       "...        ...                               ...       ...        ...   \n",
       "8085  800186.0   TW TRANSPORTES E LOGISTICA LTDA      0.00     944.30   \n",
       "8086  802494.0             RODOVIARIO BEDIN LTDA      0.00   14059.50   \n",
       "8087  803776.0  RTC LOGISTICA E TRANSPORTES LTDA   2653.81    2653.81   \n",
       "8088  804115.0            TRANSPORTES JESUS LTDA    484.44    2024.94   \n",
       "8089  804171.0          MENGUE EXPRESS EIRELE ME      0.00     182.56   \n",
       "\n",
       "        Crédito  PDD  Diferença  \n",
       "0     123103.78  0.0        0.0  \n",
       "1     184678.36  0.0        0.0  \n",
       "2      95286.71  0.0        0.0  \n",
       "3       4865.04  0.0        0.0  \n",
       "4       9048.34  0.0        0.0  \n",
       "...         ...  ...        ...  \n",
       "8085     944.30  0.0        0.0  \n",
       "8086   14059.50  0.0        0.0  \n",
       "8087       0.00  0.0        0.0  \n",
       "8088    1540.50  0.0        0.0  \n",
       "8089     182.56  0.0        0.0  \n",
       "\n",
       "[8090 rows x 7 columns]"
      ]
     },
     "execution_count": 67,
     "metadata": {},
     "output_type": "execute_result"
    }
   ],
   "source": [
    "merged_pdd"
   ]
  }
 ],
 "metadata": {
  "kernelspec": {
   "display_name": "conciliação",
   "language": "python",
   "name": "python3"
  },
  "language_info": {
   "codemirror_mode": {
    "name": "ipython",
    "version": 3
   },
   "file_extension": ".py",
   "mimetype": "text/x-python",
   "name": "python",
   "nbconvert_exporter": "python",
   "pygments_lexer": "ipython3",
   "version": "3.11.9"
  }
 },
 "nbformat": 4,
 "nbformat_minor": 2
}
